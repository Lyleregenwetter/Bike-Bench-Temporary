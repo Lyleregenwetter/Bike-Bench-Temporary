{
 "cells": [
  {
   "cell_type": "code",
   "execution_count": 1,
   "id": "4505aaf9",
   "metadata": {},
   "outputs": [],
   "source": [
    "import pandas as pd\n",
    "import numpy as np\n",
    "import sys\n",
    "import torch\n",
    "\n",
    "sys.path.append(\"../../\")\n",
    "from biked_commons.resource_utils import split_datasets_path\n",
    "from biked_commons.benchmark_models import generative_modeling_utils, benchmarking_utils"
   ]
  },
  {
   "cell_type": "code",
   "execution_count": 2,
   "id": "a0514b52",
   "metadata": {},
   "outputs": [],
   "source": [
    "data = pd.read_csv(split_datasets_path(\"bike_bench.csv\"), index_col=0)\n"
   ]
  },
  {
   "cell_type": "code",
   "execution_count": 3,
   "id": "730f34c9",
   "metadata": {},
   "outputs": [],
   "source": [
    "sampled_data = data.sample(n=10000, replace=True, random_state=42)\n",
    "data_tens = torch.tensor(sampled_data.values, dtype=torch.float32)\n",
    "main_scores, detailed_scores = benchmarking_utils.evaluate_cond(data_tens, \"Dataset\", data.columns, device=\"cpu\")"
   ]
  },
  {
   "cell_type": "code",
   "execution_count": 4,
   "id": "2c9c0167",
   "metadata": {},
   "outputs": [],
   "source": [
    "for i in range(10):\n",
    "    sampled_data = data.sample(n=1000, replace=True, random_state=42)\n",
    "    data_tens = torch.tensor(sampled_data.values, dtype=torch.float32)\n",
    "    main_scores, detailed_scores = benchmarking_utils.evaluate_uncond(data_tens, \"Dataset\", i, data.columns, device=\"cpu\")"
   ]
  },
  {
   "cell_type": "code",
   "execution_count": null,
   "id": "97311500",
   "metadata": {},
   "outputs": [],
   "source": []
  }
 ],
 "metadata": {
  "kernelspec": {
   "display_name": "pytorch_clip",
   "language": "python",
   "name": "python3"
  },
  "language_info": {
   "codemirror_mode": {
    "name": "ipython",
    "version": 3
   },
   "file_extension": ".py",
   "mimetype": "text/x-python",
   "name": "python",
   "nbconvert_exporter": "python",
   "pygments_lexer": "ipython3",
   "version": "3.10.13"
  }
 },
 "nbformat": 4,
 "nbformat_minor": 5
}
